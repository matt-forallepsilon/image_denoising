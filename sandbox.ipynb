{
 "cells": [
  {
   "cell_type": "code",
   "execution_count": null,
   "metadata": {},
   "outputs": [],
   "source": [
    "%matplotlib inline\n",
    "\n",
    "import time\n",
    "import random\n",
    "\n",
    "import numpy as np\n",
    "\n",
    "from matplotlib import pyplot\n",
    "\n",
    "import torch\n",
    "from torch.utils.data import DataLoader, random_split\n",
    "\n",
    "from utils.torchutils import ImageListDataset, UNet"
   ]
  },
  {
   "cell_type": "code",
   "execution_count": null,
   "metadata": {},
   "outputs": [],
   "source": [
    "#https://github.com/majedelhelou/denoising_datasets\n",
    "data_path = 'denoising_datasets-main/Set14'"
   ]
  },
  {
   "cell_type": "code",
   "execution_count": null,
   "metadata": {},
   "outputs": [],
   "source": [
    "images_dataset = ImageListDataset(data_path, std=0.5, size=256, mode='L')"
   ]
  },
  {
   "cell_type": "code",
   "execution_count": null,
   "metadata": {},
   "outputs": [],
   "source": [
    "fold = 4\n",
    "\n",
    "len_trainset = (fold-1)*len(images_dataset)//fold\n",
    "len_testset = len(images_dataset) - len_trainset\n",
    "\n",
    "train_dataset, test_dataset = random_split(\n",
    "    images_dataset, \n",
    "    [len_trainset, len_testset]\n",
    ")"
   ]
  },
  {
   "cell_type": "code",
   "execution_count": null,
   "metadata": {},
   "outputs": [],
   "source": [
    "train_dataloader = DataLoader(\n",
    "    train_dataset,\n",
    "    batch_size=16,\n",
    "    shuffle=True\n",
    ")\n",
    "\n",
    "test_dataloader = DataLoader(\n",
    "    test_dataset,\n",
    "    batch_size=16,\n",
    "    shuffle=True\n",
    ")"
   ]
  },
  {
   "cell_type": "code",
   "execution_count": null,
   "metadata": {},
   "outputs": [],
   "source": [
    "#net = ConvNet()\n",
    "net = UNet([1,64,128], n_classes=1, double_conv=True)"
   ]
  },
  {
   "cell_type": "code",
   "execution_count": null,
   "metadata": {},
   "outputs": [],
   "source": [
    "criterion = torch.nn.MSELoss()\n",
    "#criterion = torch.nn.L1Loss()\n",
    "optimizer = torch.optim.Adam(net.parameters())"
   ]
  },
  {
   "cell_type": "code",
   "execution_count": null,
   "metadata": {},
   "outputs": [],
   "source": [
    "print('Doing one iteration through train set as a sanity check.')\n",
    "\n",
    "tic = time.perf_counter()\n",
    "net.train_test_epoch(train_dataloader, optimizer, criterion, grad_enabled=False)\n",
    "toc = time.perf_counter()\n",
    "\n",
    "print(f'Took {toc-tic : 0.4f}s for 1 epoch of {len(train_dataset)} images.')"
   ]
  },
  {
   "cell_type": "code",
   "execution_count": null,
   "metadata": {},
   "outputs": [],
   "source": [
    "net.fit(train_dataloader, test_dataloader, optimizer, criterion, n_epochs=20, patience=20)"
   ]
  },
  {
   "cell_type": "code",
   "execution_count": null,
   "metadata": {},
   "outputs": [],
   "source": [
    "input, target = random.choice(train_dataset)\n",
    "net.eval()\n",
    "\n",
    "with torch.no_grad():\n",
    "    output = net(input[None,:])[0,:]"
   ]
  },
  {
   "cell_type": "code",
   "execution_count": null,
   "metadata": {},
   "outputs": [],
   "source": [
    "pyplot.figure(figsize=(15,15))\n",
    "\n",
    "pyplot.subplot(2,2,1)\n",
    "pyplot.imshow(torch.permute(target,(1,2,0)),cmap='gray')\n",
    "pyplot.colorbar()\n",
    "pyplot.title('target')\n",
    "\n",
    "pyplot.subplot(2,2,2)\n",
    "pyplot.imshow(torch.permute(input,(1,2,0)),cmap='gray')\n",
    "pyplot.colorbar()\n",
    "pyplot.title(f'input (loss ={criterion(input, target).item() : 0.4f})')\n",
    "\n",
    "pyplot.subplot(2,2,3)\n",
    "pyplot.imshow(torch.permute(abs(target-output),(1,2,0)),cmap='gray')\n",
    "pyplot.colorbar()\n",
    "pyplot.title('|target-predicted|')\n",
    "\n",
    "pyplot.subplot(2,2,4)\n",
    "pyplot.imshow(torch.permute(output,(1,2,0)),cmap='gray')\n",
    "pyplot.colorbar()\n",
    "pyplot.title(f'predicted (loss ={criterion(output, target).item() : 0.4f})')\n",
    "\n",
    "pyplot.show()\n",
    "\n"
   ]
  },
  {
   "cell_type": "markdown",
   "metadata": {},
   "source": []
  }
 ],
 "metadata": {
  "kernelspec": {
   "display_name": "venv",
   "language": "python",
   "name": "python3"
  },
  "language_info": {
   "codemirror_mode": {
    "name": "ipython",
    "version": 3
   },
   "file_extension": ".py",
   "mimetype": "text/x-python",
   "name": "python",
   "nbconvert_exporter": "python",
   "pygments_lexer": "ipython3",
   "version": "3.9.12"
  },
  "orig_nbformat": 4,
  "vscode": {
   "interpreter": {
    "hash": "1feb030065c9a7150d48cc39b683a11a25232147d88c3bd1b6f0334e48dd4acf"
   }
  }
 },
 "nbformat": 4,
 "nbformat_minor": 2
}
